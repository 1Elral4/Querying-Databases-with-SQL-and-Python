{
 "cells": [
  {
   "cell_type": "code",
   "execution_count": 1,
   "metadata": {},
   "outputs": [],
   "source": [
    "import sqlite3\n",
    "\n",
    "# Connect to the SQLite database\n",
    "conn = sqlite3.connect('databases/stores.db')\n",
    "cursor = conn.cursor()"
   ]
  },
  {
   "cell_type": "code",
   "execution_count": 6,
   "metadata": {},
   "outputs": [
    {
     "data": {
      "text/plain": [
       "[('customers',),\n",
       " ('employees',),\n",
       " ('offices',),\n",
       " ('orderdetails',),\n",
       " ('orders',),\n",
       " ('payments',),\n",
       " ('productlines',),\n",
       " ('products',)]"
      ]
     },
     "execution_count": 6,
     "metadata": {},
     "output_type": "execute_result"
    }
   ],
   "source": [
    "# Query to get all tables\n",
    "cursor.execute(\"SELECT name FROM sqlite_master WHERE type='table';\")\n",
    "tables = cursor.fetchall()\n",
    "tables"
   ]
  },
  {
   "cell_type": "code",
   "execution_count": 7,
   "metadata": {},
   "outputs": [
    {
     "data": {
      "text/plain": [
       "[]"
      ]
     },
     "execution_count": 7,
     "metadata": {},
     "output_type": "execute_result"
    }
   ],
   "source": [
    "# Query to get all views\n",
    "cursor.execute(\"SELECT name FROM sqlite_master WHERE type='view';\")\n",
    "views = cursor.fetchall()\n",
    "views"
   ]
  },
  {
   "cell_type": "code",
   "execution_count": 12,
   "metadata": {},
   "outputs": [
    {
     "name": "stdout",
     "output_type": "stream",
     "text": [
      "customers: \n",
      "\n",
      "(0, 'customerNumber', 'INTEGER', 1, None, 1)\n",
      "(1, 'customerName', 'nvarchar(50)', 1, None, 0)\n",
      "(2, 'contactLastName', 'nvarchar(50)', 1, None, 0)\n",
      "(3, 'contactFirstName', 'nvarchar(50)', 1, None, 0)\n",
      "(4, 'phone', 'nvarchar(50)', 1, None, 0)\n",
      "(5, 'addressLine1', 'nvarchar(50)', 1, None, 0)\n",
      "(6, 'addressLine2', 'nvarchar(50)', 0, 'NULL', 0)\n",
      "(7, 'city', 'nvarchar(50)', 1, None, 0)\n",
      "(8, 'state', 'nvarchar(50)', 0, 'NULL', 0)\n",
      "(9, 'postalCode', 'nvarchar(15)', 0, 'NULL', 0)\n",
      "(10, 'country', 'nvarchar(50)', 1, None, 0)\n",
      "(11, 'salesRepEmployeeNumber', 'INTEGER', 0, 'NULL', 0)\n",
      "(12, 'creditLimit', 'numeric(10,2)', 0, 'NULL', 0)\n",
      "\n",
      "\n",
      "\n",
      "employees: \n",
      "\n",
      "(0, 'employeeNumber', 'INTEGER', 1, None, 1)\n",
      "(1, 'lastName', 'nvarchar(50)', 1, None, 0)\n",
      "(2, 'firstName', 'nvarchar(50)', 1, None, 0)\n",
      "(3, 'extension', 'nvarchar(10)', 1, None, 0)\n",
      "(4, 'email', 'nvarchar(100)', 1, None, 0)\n",
      "(5, 'officeCode', 'nvarchar(10)', 1, None, 0)\n",
      "(6, 'reportsTo', 'INTEGER', 0, 'NULL', 0)\n",
      "(7, 'jobTitle', 'nvarchar(50)', 1, None, 0)\n",
      "\n",
      "\n",
      "\n",
      "offices: \n",
      "\n",
      "(0, 'officeCode', 'nvarchar(10)', 1, None, 1)\n",
      "(1, 'city', 'nvarchar(50)', 1, None, 0)\n",
      "(2, 'phone', 'nvarchar(50)', 1, None, 0)\n",
      "(3, 'addressLine1', 'nvarchar(50)', 1, None, 0)\n",
      "(4, 'addressLine2', 'nvarchar(50)', 0, 'NULL', 0)\n",
      "(5, 'state', 'nvarchar(50)', 0, 'NULL', 0)\n",
      "(6, 'country', 'nvarchar(50)', 1, None, 0)\n",
      "(7, 'postalCode', 'nvarchar(15)', 1, None, 0)\n",
      "(8, 'territory', 'nvarchar(10)', 1, None, 0)\n",
      "\n",
      "\n",
      "\n",
      "orderdetails: \n",
      "\n",
      "(0, 'orderNumber', 'INTEGER', 1, None, 1)\n",
      "(1, 'productCode', 'nvarchar(15)', 1, None, 2)\n",
      "(2, 'quantityOrdered', 'INTEGER', 1, None, 0)\n",
      "(3, 'priceEach', 'numeric(10,2)', 1, None, 0)\n",
      "(4, 'orderLineNumber', 'smallint(6)', 1, None, 0)\n",
      "\n",
      "\n",
      "\n",
      "orders: \n",
      "\n",
      "(0, 'orderNumber', 'INTEGER', 1, None, 1)\n",
      "(1, 'orderDate', 'date', 1, None, 0)\n",
      "(2, 'requiredDate', 'date', 1, None, 0)\n",
      "(3, 'shippedDate', 'date', 0, 'NULL', 0)\n",
      "(4, 'status', 'nvarchar(15)', 1, None, 0)\n",
      "(5, 'comments', 'TEXT', 0, None, 0)\n",
      "(6, 'customerNumber', 'INTEGER', 1, None, 0)\n",
      "\n",
      "\n",
      "\n",
      "payments: \n",
      "\n",
      "(0, 'customerNumber', 'INTEGER', 1, None, 1)\n",
      "(1, 'checkNumber', 'nvarchar(50)', 1, None, 2)\n",
      "(2, 'paymentDate', 'date', 1, None, 0)\n",
      "(3, 'amount', 'numeric(10,2)', 1, None, 0)\n",
      "\n",
      "\n",
      "\n",
      "productlines: \n",
      "\n",
      "(0, 'productLine', 'nvarchar(50)', 1, None, 1)\n",
      "(1, 'textDescription', 'nvarchar(4000)', 0, 'NULL', 0)\n",
      "(2, 'htmlDescription', 'mediumtext', 0, None, 0)\n",
      "(3, 'image', 'mediumblob', 0, None, 0)\n",
      "\n",
      "\n",
      "\n",
      "products: \n",
      "\n",
      "(0, 'productCode', 'nvarchar(15)', 1, None, 1)\n",
      "(1, 'productName', 'nvarchar(70)', 1, None, 0)\n",
      "(2, 'productLine', 'nvarchar(50)', 1, None, 0)\n",
      "(3, 'productScale', 'nvarchar(10)', 1, None, 0)\n",
      "(4, 'productVendor', 'nvarchar(50)', 1, None, 0)\n",
      "(5, 'productDescription', 'TEXT', 1, None, 0)\n",
      "(6, 'quantityInStock', 'smallint(6)', 1, None, 0)\n",
      "(7, 'buyPrice', 'numeric(10,2)', 1, None, 0)\n",
      "(8, 'MSRP', 'numeric(10,2)', 1, None, 0)\n",
      "\n",
      "\n",
      "\n"
     ]
    }
   ],
   "source": [
    "# Explore tables\n",
    "for table in tables:\n",
    "    table_name = table[0]\n",
    "    cursor.execute(f\"PRAGMA table_info('{table_name}');\")\n",
    "    columns = cursor.fetchall()\n",
    "    print(f\"{table_name}: \\n\")\n",
    "    for column in columns:\n",
    "        print(column)\n",
    "    print('\\n'*2)"
   ]
  },
  {
   "cell_type": "code",
   "execution_count": null,
   "metadata": {},
   "outputs": [],
   "source": [
    "# Create a df for each table...To easily explore the tables' values\n"
   ]
  },
  {
   "cell_type": "code",
   "execution_count": null,
   "metadata": {},
   "outputs": [],
   "source": [
    "# Close the connection\n",
    "conn.close()"
   ]
  }
 ],
 "metadata": {
  "kernelspec": {
   "display_name": "Python 3",
   "language": "python",
   "name": "python3"
  },
  "language_info": {
   "codemirror_mode": {
    "name": "ipython",
    "version": 3
   },
   "file_extension": ".py",
   "mimetype": "text/x-python",
   "name": "python",
   "nbconvert_exporter": "python",
   "pygments_lexer": "ipython3",
   "version": "3.9.6"
  }
 },
 "nbformat": 4,
 "nbformat_minor": 2
}
